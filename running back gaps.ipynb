{
 "cells": [
  {
   "cell_type": "code",
   "execution_count": 1,
   "metadata": {
    "collapsed": false
   },
   "outputs": [
    {
     "name": "stderr",
     "output_type": "stream",
     "text": [
      "/Users/DTrinh/anaconda/lib/python3.5/site-packages/IPython/core/interactiveshell.py:2723: DtypeWarning: Columns (26) have mixed types. Specify dtype option on import or set low_memory=False.\n",
      "  interactivity=interactivity, compiler=compiler, result=result)\n"
     ]
    }
   ],
   "source": [
    "import pandas as pd\n",
    "import numpy as np\n",
    "\n",
    "df = pd.read_csv('nfldata2015.csv')\n",
    "\n",
    "rusher = 'A.Peterson'\n",
    "\n",
    "left = {}\n",
    "left_count = {}\n",
    "right = {}\n",
    "right_count = {}\n",
    "middle = {}\n",
    "middle_count = {}\n",
    "\n",
    "\n",
    "            \n",
    "count = 0\n",
    "for x in df['Rusher']:\n",
    "    count = count + 1\n",
    "    \n",
    "df['RunGap'] = df['RunGap'].fillna('No Gap')    \n",
    "\n"
   ]
  },
  {
   "cell_type": "code",
   "execution_count": 2,
   "metadata": {
    "collapsed": false
   },
   "outputs": [
    {
     "name": "stdout",
     "output_type": "stream",
     "text": [
      "A.Peterson\n",
      "left yards {'end': 120, 'tackle': 93, 'guard': 161}\n",
      "left_count {'end': 23, 'tackle': 36, 'guard': 34}\n",
      "middle yards {'No Gap': 419}\n",
      "middle_count {'No Gap': 107}\n",
      "right yards {'end': 178, 'tackle': 246, 'guard': 270}\n",
      "right_count {'end': 36, 'tackle': 44, 'guard': 41}\n"
     ]
    }
   ],
   "source": [
    "for x in range(count):\n",
    "    if df['Rusher'][x] == rusher:      \n",
    "        if df['RunLocation'][x] == 'left':\n",
    "            if df['RunGap'][x] in left:\n",
    "                left[df['RunGap'][x]] = left[df['RunGap'][x]] + df['Yards.Gained'][x]\n",
    "            else:\n",
    "                left[df['RunGap'][x]] = df['Yards.Gained'][x]\n",
    "        if df['RunLocation'][x] == 'left':\n",
    "            if df['RunGap'][x] in left_count:\n",
    "                left_count[df['RunGap'][x]] = left_count[df['RunGap'][x]] + 1\n",
    "            else:\n",
    "                left_count[df['RunGap'][x]] = 1\n",
    "        if df['RunLocation'][x] == 'right':\n",
    "            if df['RunGap'][x] in right:\n",
    "                right[df['RunGap'][x]] = right[df['RunGap'][x]] + df['Yards.Gained'][x]\n",
    "            else:\n",
    "                right[df['RunGap'][x]] = df['Yards.Gained'][x]\n",
    "        if df['RunLocation'][x] == 'right':\n",
    "            if df['RunGap'][x] in right_count:\n",
    "                right_count[df['RunGap'][x]] = right_count[df['RunGap'][x]] + 1\n",
    "            else:\n",
    "                right_count[df['RunGap'][x]] = 1\n",
    "        if df['RunLocation'][x] == 'middle':\n",
    "            if df['RunGap'][x] in middle:\n",
    "                middle[df['RunGap'][x]] = middle[df['RunGap'][x]] + df['Yards.Gained'][x]\n",
    "            else:\n",
    "                middle[df['RunGap'][x]] = df['Yards.Gained'][x]\n",
    "        if df['RunLocation'][x] == 'middle':\n",
    "            if df['RunGap'][x] in middle_count:\n",
    "                middle_count[df['RunGap'][x]] = middle_count[df['RunGap'][x]] + 1\n",
    "            else:\n",
    "                middle_count[df['RunGap'][x]] = 1\n",
    "                \n",
    "                \n",
    "print(rusher)\n",
    "print('left yards', left)\n",
    "print('left_count', left_count)\n",
    "print('middle yards', middle)\n",
    "print('middle_count', middle_count)\n",
    "print('right yards', right)\n",
    "print('right_count', right_count)            \n",
    "\n"
   ]
  },
  {
   "cell_type": "code",
   "execution_count": 3,
   "metadata": {
    "collapsed": false
   },
   "outputs": [
    {
     "name": "stdout",
     "output_type": "stream",
     "text": [
      "[5.2173913043478262, 2.5833333333333335, 4.7352941176470589, 3.9158878504672896, 6.5853658536585362, 5.5909090909090908, 4.9444444444444446]\n"
     ]
    }
   ],
   "source": [
    "\n",
    "\n",
    "left_end = (left['end']/left_count['end'])\n",
    "left_tackle = (left['tackle']/left_count['tackle'])\n",
    "left_guard = (left['guard']/left_count['guard'])\n",
    "center = ((middle['No Gap'])/(middle_count['No Gap']))\n",
    "right_guard = (right['guard']/right_count['guard'])\n",
    "right_tackle = (right['tackle']/right_count['tackle'])\n",
    "right_end = (right['end']/right_count['end'])\n",
    "gaps = [left_end, left_tackle, left_guard, center, right_guard, right_tackle, right_end ]\n",
    "print(gaps)\n",
    "\n"
   ]
  },
  {
   "cell_type": "code",
   "execution_count": 6,
   "metadata": {
    "collapsed": false
   },
   "outputs": [
    {
     "data": {
      "image/png": "[encoded data removed]",
      "text/plain": [
       "<matplotlib.figure.Figure at 0x11a05bb38>"
      ]
     },
     "metadata": {},
     "output_type": "display_data"
    }
   ],
   "source": [
    "import matplotlib.pyplot as plt\n",
    "import seaborn as sns\n",
    "%matplotlib inline\n",
    "\n",
    "sns.set(style=\"darkgrid\")\n",
    "gap_titles = ['Left End', 'Left Tackle', 'Left Guard', 'Center', 'Right Guard', 'Right Tackle', 'Right End' ]\n",
    "gap_count = [left_count['end'], left_count['tackle'], left_count['guard'], middle_count['No Gap'], right_count['guard'], right_count['tackle'], right_count['end']]\n",
    "\n",
    "\n",
    "\n",
    "\n",
    "\n",
    "ax1 = sns.barplot(gap_titles, gaps)\n",
    "ax1.set(xlabel = 'Gap Location', ylabel = 'Average Yards', title = rusher + '\\'s Average Yards per Gap')\n",
    "\n",
    "sns.plt.show()\n",
    "\n"
   ]
  },
  {
   "cell_type": "code",
   "execution_count": 7,
   "metadata": {
    "collapsed": false
   },
   "outputs": [
    {
     "data": {
      "image/png": "[encoded data removed]",
      "text/plain": [
       "<matplotlib.figure.Figure at 0x11148b8d0>"
      ]
     },
     "metadata": {},
     "output_type": "display_data"
    }
   ],
   "source": [
    "%matplotlib inline\n",
    "ax2 = sns.barplot(gap_titles, gap_count)\n",
    "ax2.set(xlabel = 'Gap Location', ylabel = 'Rush Attempts', title = rusher + '\\'s Rush Attempts per Gap')\n",
    "\n",
    "sns.plt.show()"
   ]
  },
  {
   "cell_type": "code",
   "execution_count": null,
   "metadata": {
    "collapsed": true
   },
   "outputs": [],
   "source": []
  }
 ],
 "metadata": {
  "anaconda-cloud": {},
  "kernelspec": {
   "display_name": "Python [Root]",
   "language": "python",
   "name": "Python [Root]"
  },
  "language_info": {
   "codemirror_mode": {
    "name": "ipython",
    "version": 3
   },
   "file_extension": ".py",
   "mimetype": "text/x-python",
   "name": "python",
   "nbconvert_exporter": "python",
   "pygments_lexer": "ipython3",
   "version": "3.5.1"
  }
 },
 "nbformat": 4,
 "nbformat_minor": 0
}
